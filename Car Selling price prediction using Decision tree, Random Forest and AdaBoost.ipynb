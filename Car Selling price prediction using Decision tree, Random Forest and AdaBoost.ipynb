{
 "cells": [
  {
   "cell_type": "markdown",
   "id": "81c71224",
   "metadata": {},
   "source": [
    "# Project - Car price prediction using Decesion Tree, Random Forest & AdaBoost"
   ]
  },
  {
   "cell_type": "code",
   "execution_count": 1,
   "id": "0f51c290",
   "metadata": {},
   "outputs": [],
   "source": [
    "import pandas as pd\n",
    "import matplotlib.pyplot as plt\n",
    "import seaborn as sb\n",
    "import warnings\n",
    "warnings.filterwarnings(\"ignore\")"
   ]
  },
  {
   "cell_type": "code",
   "execution_count": 2,
   "id": "11af84ab",
   "metadata": {},
   "outputs": [
    {
     "data": {
      "text/html": [
       "<div>\n",
       "<style scoped>\n",
       "    .dataframe tbody tr th:only-of-type {\n",
       "        vertical-align: middle;\n",
       "    }\n",
       "\n",
       "    .dataframe tbody tr th {\n",
       "        vertical-align: top;\n",
       "    }\n",
       "\n",
       "    .dataframe thead th {\n",
       "        text-align: right;\n",
       "    }\n",
       "</style>\n",
       "<table border=\"1\" class=\"dataframe\">\n",
       "  <thead>\n",
       "    <tr style=\"text-align: right;\">\n",
       "      <th></th>\n",
       "      <th>name</th>\n",
       "      <th>year</th>\n",
       "      <th>selling_price</th>\n",
       "      <th>km_driven</th>\n",
       "      <th>fuel</th>\n",
       "      <th>seller_type</th>\n",
       "      <th>transmission</th>\n",
       "      <th>owner</th>\n",
       "    </tr>\n",
       "  </thead>\n",
       "  <tbody>\n",
       "    <tr>\n",
       "      <th>0</th>\n",
       "      <td>ritz</td>\n",
       "      <td>2014</td>\n",
       "      <td>3.35</td>\n",
       "      <td>27000</td>\n",
       "      <td>Petrol</td>\n",
       "      <td>Dealer</td>\n",
       "      <td>Manual</td>\n",
       "      <td>0</td>\n",
       "    </tr>\n",
       "    <tr>\n",
       "      <th>1</th>\n",
       "      <td>sx4</td>\n",
       "      <td>2013</td>\n",
       "      <td>4.75</td>\n",
       "      <td>43000</td>\n",
       "      <td>Diesel</td>\n",
       "      <td>Dealer</td>\n",
       "      <td>Manual</td>\n",
       "      <td>0</td>\n",
       "    </tr>\n",
       "    <tr>\n",
       "      <th>2</th>\n",
       "      <td>ciaz</td>\n",
       "      <td>2017</td>\n",
       "      <td>7.25</td>\n",
       "      <td>6900</td>\n",
       "      <td>Petrol</td>\n",
       "      <td>Dealer</td>\n",
       "      <td>Manual</td>\n",
       "      <td>0</td>\n",
       "    </tr>\n",
       "    <tr>\n",
       "      <th>3</th>\n",
       "      <td>wagon r</td>\n",
       "      <td>2011</td>\n",
       "      <td>2.85</td>\n",
       "      <td>5200</td>\n",
       "      <td>Petrol</td>\n",
       "      <td>Dealer</td>\n",
       "      <td>Manual</td>\n",
       "      <td>0</td>\n",
       "    </tr>\n",
       "    <tr>\n",
       "      <th>4</th>\n",
       "      <td>swift</td>\n",
       "      <td>2014</td>\n",
       "      <td>4.60</td>\n",
       "      <td>42450</td>\n",
       "      <td>Diesel</td>\n",
       "      <td>Dealer</td>\n",
       "      <td>Manual</td>\n",
       "      <td>0</td>\n",
       "    </tr>\n",
       "    <tr>\n",
       "      <th>5</th>\n",
       "      <td>vitara brezza</td>\n",
       "      <td>2018</td>\n",
       "      <td>9.25</td>\n",
       "      <td>2071</td>\n",
       "      <td>Diesel</td>\n",
       "      <td>Dealer</td>\n",
       "      <td>Manual</td>\n",
       "      <td>0</td>\n",
       "    </tr>\n",
       "    <tr>\n",
       "      <th>6</th>\n",
       "      <td>ciaz</td>\n",
       "      <td>2015</td>\n",
       "      <td>6.75</td>\n",
       "      <td>18796</td>\n",
       "      <td>Petrol</td>\n",
       "      <td>Dealer</td>\n",
       "      <td>Manual</td>\n",
       "      <td>0</td>\n",
       "    </tr>\n",
       "    <tr>\n",
       "      <th>7</th>\n",
       "      <td>s cross</td>\n",
       "      <td>2015</td>\n",
       "      <td>6.50</td>\n",
       "      <td>33429</td>\n",
       "      <td>Diesel</td>\n",
       "      <td>Dealer</td>\n",
       "      <td>Manual</td>\n",
       "      <td>0</td>\n",
       "    </tr>\n",
       "    <tr>\n",
       "      <th>8</th>\n",
       "      <td>ciaz</td>\n",
       "      <td>2016</td>\n",
       "      <td>8.75</td>\n",
       "      <td>20273</td>\n",
       "      <td>Diesel</td>\n",
       "      <td>Dealer</td>\n",
       "      <td>Manual</td>\n",
       "      <td>0</td>\n",
       "    </tr>\n",
       "    <tr>\n",
       "      <th>9</th>\n",
       "      <td>ciaz</td>\n",
       "      <td>2015</td>\n",
       "      <td>7.45</td>\n",
       "      <td>42367</td>\n",
       "      <td>Diesel</td>\n",
       "      <td>Dealer</td>\n",
       "      <td>Manual</td>\n",
       "      <td>0</td>\n",
       "    </tr>\n",
       "    <tr>\n",
       "      <th>10</th>\n",
       "      <td>alto 800</td>\n",
       "      <td>2017</td>\n",
       "      <td>2.85</td>\n",
       "      <td>2135</td>\n",
       "      <td>Petrol</td>\n",
       "      <td>Dealer</td>\n",
       "      <td>Manual</td>\n",
       "      <td>0</td>\n",
       "    </tr>\n",
       "    <tr>\n",
       "      <th>11</th>\n",
       "      <td>ciaz</td>\n",
       "      <td>2015</td>\n",
       "      <td>6.85</td>\n",
       "      <td>51000</td>\n",
       "      <td>Diesel</td>\n",
       "      <td>Dealer</td>\n",
       "      <td>Manual</td>\n",
       "      <td>0</td>\n",
       "    </tr>\n",
       "    <tr>\n",
       "      <th>12</th>\n",
       "      <td>ciaz</td>\n",
       "      <td>2015</td>\n",
       "      <td>7.50</td>\n",
       "      <td>15000</td>\n",
       "      <td>Petrol</td>\n",
       "      <td>Dealer</td>\n",
       "      <td>Automatic</td>\n",
       "      <td>0</td>\n",
       "    </tr>\n",
       "    <tr>\n",
       "      <th>13</th>\n",
       "      <td>ertiga</td>\n",
       "      <td>2015</td>\n",
       "      <td>6.10</td>\n",
       "      <td>26000</td>\n",
       "      <td>Petrol</td>\n",
       "      <td>Dealer</td>\n",
       "      <td>Manual</td>\n",
       "      <td>0</td>\n",
       "    </tr>\n",
       "    <tr>\n",
       "      <th>14</th>\n",
       "      <td>dzire</td>\n",
       "      <td>2009</td>\n",
       "      <td>2.25</td>\n",
       "      <td>77427</td>\n",
       "      <td>Petrol</td>\n",
       "      <td>Dealer</td>\n",
       "      <td>Manual</td>\n",
       "      <td>0</td>\n",
       "    </tr>\n",
       "    <tr>\n",
       "      <th>15</th>\n",
       "      <td>ertiga</td>\n",
       "      <td>2016</td>\n",
       "      <td>7.75</td>\n",
       "      <td>43000</td>\n",
       "      <td>Diesel</td>\n",
       "      <td>Dealer</td>\n",
       "      <td>Manual</td>\n",
       "      <td>0</td>\n",
       "    </tr>\n",
       "    <tr>\n",
       "      <th>16</th>\n",
       "      <td>ertiga</td>\n",
       "      <td>2015</td>\n",
       "      <td>7.25</td>\n",
       "      <td>41678</td>\n",
       "      <td>Diesel</td>\n",
       "      <td>Dealer</td>\n",
       "      <td>Manual</td>\n",
       "      <td>0</td>\n",
       "    </tr>\n",
       "    <tr>\n",
       "      <th>17</th>\n",
       "      <td>ertiga</td>\n",
       "      <td>2016</td>\n",
       "      <td>7.75</td>\n",
       "      <td>43000</td>\n",
       "      <td>Diesel</td>\n",
       "      <td>Dealer</td>\n",
       "      <td>Manual</td>\n",
       "      <td>0</td>\n",
       "    </tr>\n",
       "    <tr>\n",
       "      <th>18</th>\n",
       "      <td>wagon r</td>\n",
       "      <td>2015</td>\n",
       "      <td>3.25</td>\n",
       "      <td>35500</td>\n",
       "      <td>CNG</td>\n",
       "      <td>Dealer</td>\n",
       "      <td>Manual</td>\n",
       "      <td>0</td>\n",
       "    </tr>\n",
       "    <tr>\n",
       "      <th>19</th>\n",
       "      <td>sx4</td>\n",
       "      <td>2010</td>\n",
       "      <td>2.65</td>\n",
       "      <td>41442</td>\n",
       "      <td>Petrol</td>\n",
       "      <td>Dealer</td>\n",
       "      <td>Manual</td>\n",
       "      <td>0</td>\n",
       "    </tr>\n",
       "  </tbody>\n",
       "</table>\n",
       "</div>"
      ],
      "text/plain": [
       "             name  year  selling_price  km_driven    fuel seller_type  \\\n",
       "0            ritz  2014           3.35      27000  Petrol      Dealer   \n",
       "1             sx4  2013           4.75      43000  Diesel      Dealer   \n",
       "2            ciaz  2017           7.25       6900  Petrol      Dealer   \n",
       "3         wagon r  2011           2.85       5200  Petrol      Dealer   \n",
       "4           swift  2014           4.60      42450  Diesel      Dealer   \n",
       "5   vitara brezza  2018           9.25       2071  Diesel      Dealer   \n",
       "6            ciaz  2015           6.75      18796  Petrol      Dealer   \n",
       "7         s cross  2015           6.50      33429  Diesel      Dealer   \n",
       "8            ciaz  2016           8.75      20273  Diesel      Dealer   \n",
       "9            ciaz  2015           7.45      42367  Diesel      Dealer   \n",
       "10       alto 800  2017           2.85       2135  Petrol      Dealer   \n",
       "11           ciaz  2015           6.85      51000  Diesel      Dealer   \n",
       "12           ciaz  2015           7.50      15000  Petrol      Dealer   \n",
       "13         ertiga  2015           6.10      26000  Petrol      Dealer   \n",
       "14          dzire  2009           2.25      77427  Petrol      Dealer   \n",
       "15         ertiga  2016           7.75      43000  Diesel      Dealer   \n",
       "16         ertiga  2015           7.25      41678  Diesel      Dealer   \n",
       "17         ertiga  2016           7.75      43000  Diesel      Dealer   \n",
       "18        wagon r  2015           3.25      35500     CNG      Dealer   \n",
       "19            sx4  2010           2.65      41442  Petrol      Dealer   \n",
       "\n",
       "   transmission  owner  \n",
       "0        Manual      0  \n",
       "1        Manual      0  \n",
       "2        Manual      0  \n",
       "3        Manual      0  \n",
       "4        Manual      0  \n",
       "5        Manual      0  \n",
       "6        Manual      0  \n",
       "7        Manual      0  \n",
       "8        Manual      0  \n",
       "9        Manual      0  \n",
       "10       Manual      0  \n",
       "11       Manual      0  \n",
       "12    Automatic      0  \n",
       "13       Manual      0  \n",
       "14       Manual      0  \n",
       "15       Manual      0  \n",
       "16       Manual      0  \n",
       "17       Manual      0  \n",
       "18       Manual      0  \n",
       "19       Manual      0  "
      ]
     },
     "execution_count": 2,
     "metadata": {},
     "output_type": "execute_result"
    }
   ],
   "source": [
    "A=pd.read_csv('CAR DETAILS FROM CAR DEKHO.csv.csv')\n",
    "A.head(20)"
   ]
  },
  {
   "cell_type": "code",
   "execution_count": 3,
   "id": "922fdd0c",
   "metadata": {},
   "outputs": [
    {
     "data": {
      "text/plain": [
       "name             0\n",
       "year             0\n",
       "selling_price    0\n",
       "km_driven        0\n",
       "fuel             0\n",
       "seller_type      0\n",
       "transmission     0\n",
       "owner            0\n",
       "dtype: int64"
      ]
     },
     "execution_count": 3,
     "metadata": {},
     "output_type": "execute_result"
    }
   ],
   "source": [
    "A.isna().sum()"
   ]
  },
  {
   "cell_type": "code",
   "execution_count": 4,
   "id": "8dea9456",
   "metadata": {},
   "outputs": [
    {
     "data": {
      "text/html": [
       "<div>\n",
       "<style scoped>\n",
       "    .dataframe tbody tr th:only-of-type {\n",
       "        vertical-align: middle;\n",
       "    }\n",
       "\n",
       "    .dataframe tbody tr th {\n",
       "        vertical-align: top;\n",
       "    }\n",
       "\n",
       "    .dataframe thead th {\n",
       "        text-align: right;\n",
       "    }\n",
       "</style>\n",
       "<table border=\"1\" class=\"dataframe\">\n",
       "  <thead>\n",
       "    <tr style=\"text-align: right;\">\n",
       "      <th></th>\n",
       "      <th>year</th>\n",
       "      <th>km_driven</th>\n",
       "      <th>fuel</th>\n",
       "      <th>seller_type</th>\n",
       "      <th>transmission</th>\n",
       "      <th>owner</th>\n",
       "    </tr>\n",
       "  </thead>\n",
       "  <tbody>\n",
       "    <tr>\n",
       "      <th>0</th>\n",
       "      <td>2014</td>\n",
       "      <td>27000</td>\n",
       "      <td>Petrol</td>\n",
       "      <td>Dealer</td>\n",
       "      <td>Manual</td>\n",
       "      <td>0</td>\n",
       "    </tr>\n",
       "    <tr>\n",
       "      <th>1</th>\n",
       "      <td>2013</td>\n",
       "      <td>43000</td>\n",
       "      <td>Diesel</td>\n",
       "      <td>Dealer</td>\n",
       "      <td>Manual</td>\n",
       "      <td>0</td>\n",
       "    </tr>\n",
       "    <tr>\n",
       "      <th>2</th>\n",
       "      <td>2017</td>\n",
       "      <td>6900</td>\n",
       "      <td>Petrol</td>\n",
       "      <td>Dealer</td>\n",
       "      <td>Manual</td>\n",
       "      <td>0</td>\n",
       "    </tr>\n",
       "    <tr>\n",
       "      <th>3</th>\n",
       "      <td>2011</td>\n",
       "      <td>5200</td>\n",
       "      <td>Petrol</td>\n",
       "      <td>Dealer</td>\n",
       "      <td>Manual</td>\n",
       "      <td>0</td>\n",
       "    </tr>\n",
       "    <tr>\n",
       "      <th>4</th>\n",
       "      <td>2014</td>\n",
       "      <td>42450</td>\n",
       "      <td>Diesel</td>\n",
       "      <td>Dealer</td>\n",
       "      <td>Manual</td>\n",
       "      <td>0</td>\n",
       "    </tr>\n",
       "    <tr>\n",
       "      <th>5</th>\n",
       "      <td>2018</td>\n",
       "      <td>2071</td>\n",
       "      <td>Diesel</td>\n",
       "      <td>Dealer</td>\n",
       "      <td>Manual</td>\n",
       "      <td>0</td>\n",
       "    </tr>\n",
       "    <tr>\n",
       "      <th>6</th>\n",
       "      <td>2015</td>\n",
       "      <td>18796</td>\n",
       "      <td>Petrol</td>\n",
       "      <td>Dealer</td>\n",
       "      <td>Manual</td>\n",
       "      <td>0</td>\n",
       "    </tr>\n",
       "    <tr>\n",
       "      <th>7</th>\n",
       "      <td>2015</td>\n",
       "      <td>33429</td>\n",
       "      <td>Diesel</td>\n",
       "      <td>Dealer</td>\n",
       "      <td>Manual</td>\n",
       "      <td>0</td>\n",
       "    </tr>\n",
       "    <tr>\n",
       "      <th>8</th>\n",
       "      <td>2016</td>\n",
       "      <td>20273</td>\n",
       "      <td>Diesel</td>\n",
       "      <td>Dealer</td>\n",
       "      <td>Manual</td>\n",
       "      <td>0</td>\n",
       "    </tr>\n",
       "    <tr>\n",
       "      <th>9</th>\n",
       "      <td>2015</td>\n",
       "      <td>42367</td>\n",
       "      <td>Diesel</td>\n",
       "      <td>Dealer</td>\n",
       "      <td>Manual</td>\n",
       "      <td>0</td>\n",
       "    </tr>\n",
       "  </tbody>\n",
       "</table>\n",
       "</div>"
      ],
      "text/plain": [
       "   year  km_driven    fuel seller_type transmission  owner\n",
       "0  2014      27000  Petrol      Dealer       Manual      0\n",
       "1  2013      43000  Diesel      Dealer       Manual      0\n",
       "2  2017       6900  Petrol      Dealer       Manual      0\n",
       "3  2011       5200  Petrol      Dealer       Manual      0\n",
       "4  2014      42450  Diesel      Dealer       Manual      0\n",
       "5  2018       2071  Diesel      Dealer       Manual      0\n",
       "6  2015      18796  Petrol      Dealer       Manual      0\n",
       "7  2015      33429  Diesel      Dealer       Manual      0\n",
       "8  2016      20273  Diesel      Dealer       Manual      0\n",
       "9  2015      42367  Diesel      Dealer       Manual      0"
      ]
     },
     "execution_count": 4,
     "metadata": {},
     "output_type": "execute_result"
    }
   ],
   "source": [
    "X=A.drop(labels=['selling_price','name'],axis=1)\n",
    "Y=A[['selling_price']]\n",
    "X.head(10)"
   ]
  },
  {
   "cell_type": "code",
   "execution_count": 5,
   "id": "07d4b242",
   "metadata": {},
   "outputs": [
    {
     "data": {
      "text/html": [
       "<div>\n",
       "<style scoped>\n",
       "    .dataframe tbody tr th:only-of-type {\n",
       "        vertical-align: middle;\n",
       "    }\n",
       "\n",
       "    .dataframe tbody tr th {\n",
       "        vertical-align: top;\n",
       "    }\n",
       "\n",
       "    .dataframe thead th {\n",
       "        text-align: right;\n",
       "    }\n",
       "</style>\n",
       "<table border=\"1\" class=\"dataframe\">\n",
       "  <thead>\n",
       "    <tr style=\"text-align: right;\">\n",
       "      <th></th>\n",
       "      <th>selling_price</th>\n",
       "    </tr>\n",
       "  </thead>\n",
       "  <tbody>\n",
       "    <tr>\n",
       "      <th>0</th>\n",
       "      <td>3.35</td>\n",
       "    </tr>\n",
       "    <tr>\n",
       "      <th>1</th>\n",
       "      <td>4.75</td>\n",
       "    </tr>\n",
       "    <tr>\n",
       "      <th>2</th>\n",
       "      <td>7.25</td>\n",
       "    </tr>\n",
       "    <tr>\n",
       "      <th>3</th>\n",
       "      <td>2.85</td>\n",
       "    </tr>\n",
       "    <tr>\n",
       "      <th>4</th>\n",
       "      <td>4.60</td>\n",
       "    </tr>\n",
       "    <tr>\n",
       "      <th>5</th>\n",
       "      <td>9.25</td>\n",
       "    </tr>\n",
       "    <tr>\n",
       "      <th>6</th>\n",
       "      <td>6.75</td>\n",
       "    </tr>\n",
       "    <tr>\n",
       "      <th>7</th>\n",
       "      <td>6.50</td>\n",
       "    </tr>\n",
       "    <tr>\n",
       "      <th>8</th>\n",
       "      <td>8.75</td>\n",
       "    </tr>\n",
       "    <tr>\n",
       "      <th>9</th>\n",
       "      <td>7.45</td>\n",
       "    </tr>\n",
       "  </tbody>\n",
       "</table>\n",
       "</div>"
      ],
      "text/plain": [
       "   selling_price\n",
       "0           3.35\n",
       "1           4.75\n",
       "2           7.25\n",
       "3           2.85\n",
       "4           4.60\n",
       "5           9.25\n",
       "6           6.75\n",
       "7           6.50\n",
       "8           8.75\n",
       "9           7.45"
      ]
     },
     "execution_count": 5,
     "metadata": {},
     "output_type": "execute_result"
    }
   ],
   "source": [
    "Y.head(10)"
   ]
  },
  {
   "cell_type": "code",
   "execution_count": 6,
   "id": "acabc834",
   "metadata": {},
   "outputs": [
    {
     "data": {
      "image/png": "[encoded data removed]",
      "text/plain": [
       "<Figure size 3000x4000 with 1 Axes>"
      ]
     },
     "metadata": {},
     "output_type": "display_data"
    },
    {
     "data": {
      "image/png": "[encoded data removed]",
      "text/plain": [
       "<Figure size 3000x4000 with 1 Axes>"
      ]
     },
     "metadata": {},
     "output_type": "display_data"
    },
    {
     "data": {
      "image/png": "[encoded data removed]",
      "text/plain": [
       "<Figure size 3000x4000 with 1 Axes>"
      ]
     },
     "metadata": {},
     "output_type": "display_data"
    },
    {
     "data": {
      "image/png": "[encoded data removed]",
      "text/plain": [
       "<Figure size 3000x4000 with 1 Axes>"
      ]
     },
     "metadata": {},
     "output_type": "display_data"
    },
    {
     "data": {
      "image/png": "[encoded data removed]",
      "text/plain": [
       "<Figure size 3000x4000 with 1 Axes>"
      ]
     },
     "metadata": {},
     "output_type": "display_data"
    },
    {
     "data": {
      "image/png": "[encoded data removed]",
      "text/plain": [
       "<Figure size 3000x4000 with 1 Axes>"
      ]
     },
     "metadata": {},
     "output_type": "display_data"
    }
   ],
   "source": [
    "x=1\n",
    "for i in X.columns:\n",
    "    plt.figure(figsize=(30,40))\n",
    "    if(X[i].dtypes==\"object\"):\n",
    "        plt.subplot(7,1,x)\n",
    "        x=x+1\n",
    "        sb.countplot(X[i])\n",
    "        plt.title(i)\n",
    "    else:\n",
    "        plt.subplot(7,1,x)\n",
    "        x=x+1\n",
    "        sb.distplot(X[i])\n",
    "        plt.title(i)\n",
    "            "
   ]
  },
  {
   "cell_type": "markdown",
   "id": "5674dc99",
   "metadata": {},
   "source": [
    "### Scaling data using StandardScaler & One Hot Encoding"
   ]
  },
  {
   "cell_type": "code",
   "execution_count": 7,
   "id": "f2702323",
   "metadata": {},
   "outputs": [
    {
     "data": {
      "text/html": [
       "<div>\n",
       "<style scoped>\n",
       "    .dataframe tbody tr th:only-of-type {\n",
       "        vertical-align: middle;\n",
       "    }\n",
       "\n",
       "    .dataframe tbody tr th {\n",
       "        vertical-align: top;\n",
       "    }\n",
       "\n",
       "    .dataframe thead th {\n",
       "        text-align: right;\n",
       "    }\n",
       "</style>\n",
       "<table border=\"1\" class=\"dataframe\">\n",
       "  <thead>\n",
       "    <tr style=\"text-align: right;\">\n",
       "      <th></th>\n",
       "      <th>year</th>\n",
       "      <th>km_driven</th>\n",
       "      <th>owner</th>\n",
       "      <th>fuel_CNG</th>\n",
       "      <th>fuel_Diesel</th>\n",
       "      <th>fuel_Petrol</th>\n",
       "      <th>seller_type_Dealer</th>\n",
       "      <th>seller_type_Individual</th>\n",
       "      <th>transmission_Automatic</th>\n",
       "      <th>transmission_Manual</th>\n",
       "    </tr>\n",
       "  </thead>\n",
       "  <tbody>\n",
       "    <tr>\n",
       "      <th>0</th>\n",
       "      <td>0.128897</td>\n",
       "      <td>-0.256224</td>\n",
       "      <td>-0.174501</td>\n",
       "      <td>False</td>\n",
       "      <td>False</td>\n",
       "      <td>True</td>\n",
       "      <td>True</td>\n",
       "      <td>False</td>\n",
       "      <td>False</td>\n",
       "      <td>True</td>\n",
       "    </tr>\n",
       "    <tr>\n",
       "      <th>1</th>\n",
       "      <td>-0.217514</td>\n",
       "      <td>0.155911</td>\n",
       "      <td>-0.174501</td>\n",
       "      <td>False</td>\n",
       "      <td>True</td>\n",
       "      <td>False</td>\n",
       "      <td>True</td>\n",
       "      <td>False</td>\n",
       "      <td>False</td>\n",
       "      <td>True</td>\n",
       "    </tr>\n",
       "    <tr>\n",
       "      <th>2</th>\n",
       "      <td>1.168129</td>\n",
       "      <td>-0.773969</td>\n",
       "      <td>-0.174501</td>\n",
       "      <td>False</td>\n",
       "      <td>False</td>\n",
       "      <td>True</td>\n",
       "      <td>True</td>\n",
       "      <td>False</td>\n",
       "      <td>False</td>\n",
       "      <td>True</td>\n",
       "    </tr>\n",
       "    <tr>\n",
       "      <th>3</th>\n",
       "      <td>-0.910335</td>\n",
       "      <td>-0.817758</td>\n",
       "      <td>-0.174501</td>\n",
       "      <td>False</td>\n",
       "      <td>False</td>\n",
       "      <td>True</td>\n",
       "      <td>True</td>\n",
       "      <td>False</td>\n",
       "      <td>False</td>\n",
       "      <td>True</td>\n",
       "    </tr>\n",
       "    <tr>\n",
       "      <th>4</th>\n",
       "      <td>0.128897</td>\n",
       "      <td>0.141743</td>\n",
       "      <td>-0.174501</td>\n",
       "      <td>False</td>\n",
       "      <td>True</td>\n",
       "      <td>False</td>\n",
       "      <td>True</td>\n",
       "      <td>False</td>\n",
       "      <td>False</td>\n",
       "      <td>True</td>\n",
       "    </tr>\n",
       "    <tr>\n",
       "      <th>5</th>\n",
       "      <td>1.514540</td>\n",
       "      <td>-0.898356</td>\n",
       "      <td>-0.174501</td>\n",
       "      <td>False</td>\n",
       "      <td>True</td>\n",
       "      <td>False</td>\n",
       "      <td>True</td>\n",
       "      <td>False</td>\n",
       "      <td>False</td>\n",
       "      <td>True</td>\n",
       "    </tr>\n",
       "    <tr>\n",
       "      <th>6</th>\n",
       "      <td>0.475308</td>\n",
       "      <td>-0.467547</td>\n",
       "      <td>-0.174501</td>\n",
       "      <td>False</td>\n",
       "      <td>False</td>\n",
       "      <td>True</td>\n",
       "      <td>True</td>\n",
       "      <td>False</td>\n",
       "      <td>False</td>\n",
       "      <td>True</td>\n",
       "    </tr>\n",
       "    <tr>\n",
       "      <th>7</th>\n",
       "      <td>0.475308</td>\n",
       "      <td>-0.090623</td>\n",
       "      <td>-0.174501</td>\n",
       "      <td>False</td>\n",
       "      <td>True</td>\n",
       "      <td>False</td>\n",
       "      <td>True</td>\n",
       "      <td>False</td>\n",
       "      <td>False</td>\n",
       "      <td>True</td>\n",
       "    </tr>\n",
       "    <tr>\n",
       "      <th>8</th>\n",
       "      <td>0.821718</td>\n",
       "      <td>-0.429501</td>\n",
       "      <td>-0.174501</td>\n",
       "      <td>False</td>\n",
       "      <td>True</td>\n",
       "      <td>False</td>\n",
       "      <td>True</td>\n",
       "      <td>False</td>\n",
       "      <td>False</td>\n",
       "      <td>True</td>\n",
       "    </tr>\n",
       "    <tr>\n",
       "      <th>9</th>\n",
       "      <td>0.475308</td>\n",
       "      <td>0.139605</td>\n",
       "      <td>-0.174501</td>\n",
       "      <td>False</td>\n",
       "      <td>True</td>\n",
       "      <td>False</td>\n",
       "      <td>True</td>\n",
       "      <td>False</td>\n",
       "      <td>False</td>\n",
       "      <td>True</td>\n",
       "    </tr>\n",
       "    <tr>\n",
       "      <th>10</th>\n",
       "      <td>1.168129</td>\n",
       "      <td>-0.896708</td>\n",
       "      <td>-0.174501</td>\n",
       "      <td>False</td>\n",
       "      <td>False</td>\n",
       "      <td>True</td>\n",
       "      <td>True</td>\n",
       "      <td>False</td>\n",
       "      <td>False</td>\n",
       "      <td>True</td>\n",
       "    </tr>\n",
       "    <tr>\n",
       "      <th>11</th>\n",
       "      <td>0.475308</td>\n",
       "      <td>0.361978</td>\n",
       "      <td>-0.174501</td>\n",
       "      <td>False</td>\n",
       "      <td>True</td>\n",
       "      <td>False</td>\n",
       "      <td>True</td>\n",
       "      <td>False</td>\n",
       "      <td>False</td>\n",
       "      <td>True</td>\n",
       "    </tr>\n",
       "    <tr>\n",
       "      <th>12</th>\n",
       "      <td>0.475308</td>\n",
       "      <td>-0.565326</td>\n",
       "      <td>-0.174501</td>\n",
       "      <td>False</td>\n",
       "      <td>False</td>\n",
       "      <td>True</td>\n",
       "      <td>True</td>\n",
       "      <td>False</td>\n",
       "      <td>True</td>\n",
       "      <td>False</td>\n",
       "    </tr>\n",
       "    <tr>\n",
       "      <th>13</th>\n",
       "      <td>0.475308</td>\n",
       "      <td>-0.281983</td>\n",
       "      <td>-0.174501</td>\n",
       "      <td>False</td>\n",
       "      <td>False</td>\n",
       "      <td>True</td>\n",
       "      <td>True</td>\n",
       "      <td>False</td>\n",
       "      <td>False</td>\n",
       "      <td>True</td>\n",
       "    </tr>\n",
       "    <tr>\n",
       "      <th>14</th>\n",
       "      <td>-1.603156</td>\n",
       "      <td>1.042696</td>\n",
       "      <td>-0.174501</td>\n",
       "      <td>False</td>\n",
       "      <td>False</td>\n",
       "      <td>True</td>\n",
       "      <td>True</td>\n",
       "      <td>False</td>\n",
       "      <td>False</td>\n",
       "      <td>True</td>\n",
       "    </tr>\n",
       "    <tr>\n",
       "      <th>15</th>\n",
       "      <td>0.821718</td>\n",
       "      <td>0.155911</td>\n",
       "      <td>-0.174501</td>\n",
       "      <td>False</td>\n",
       "      <td>True</td>\n",
       "      <td>False</td>\n",
       "      <td>True</td>\n",
       "      <td>False</td>\n",
       "      <td>False</td>\n",
       "      <td>True</td>\n",
       "    </tr>\n",
       "    <tr>\n",
       "      <th>16</th>\n",
       "      <td>0.475308</td>\n",
       "      <td>0.121858</td>\n",
       "      <td>-0.174501</td>\n",
       "      <td>False</td>\n",
       "      <td>True</td>\n",
       "      <td>False</td>\n",
       "      <td>True</td>\n",
       "      <td>False</td>\n",
       "      <td>False</td>\n",
       "      <td>True</td>\n",
       "    </tr>\n",
       "    <tr>\n",
       "      <th>17</th>\n",
       "      <td>0.821718</td>\n",
       "      <td>0.155911</td>\n",
       "      <td>-0.174501</td>\n",
       "      <td>False</td>\n",
       "      <td>True</td>\n",
       "      <td>False</td>\n",
       "      <td>True</td>\n",
       "      <td>False</td>\n",
       "      <td>False</td>\n",
       "      <td>True</td>\n",
       "    </tr>\n",
       "    <tr>\n",
       "      <th>18</th>\n",
       "      <td>0.475308</td>\n",
       "      <td>-0.037278</td>\n",
       "      <td>-0.174501</td>\n",
       "      <td>True</td>\n",
       "      <td>False</td>\n",
       "      <td>False</td>\n",
       "      <td>True</td>\n",
       "      <td>False</td>\n",
       "      <td>False</td>\n",
       "      <td>True</td>\n",
       "    </tr>\n",
       "    <tr>\n",
       "      <th>19</th>\n",
       "      <td>-1.256746</td>\n",
       "      <td>0.115779</td>\n",
       "      <td>-0.174501</td>\n",
       "      <td>False</td>\n",
       "      <td>False</td>\n",
       "      <td>True</td>\n",
       "      <td>True</td>\n",
       "      <td>False</td>\n",
       "      <td>False</td>\n",
       "      <td>True</td>\n",
       "    </tr>\n",
       "  </tbody>\n",
       "</table>\n",
       "</div>"
      ],
      "text/plain": [
       "        year  km_driven     owner  fuel_CNG  fuel_Diesel  fuel_Petrol  \\\n",
       "0   0.128897  -0.256224 -0.174501     False        False         True   \n",
       "1  -0.217514   0.155911 -0.174501     False         True        False   \n",
       "2   1.168129  -0.773969 -0.174501     False        False         True   \n",
       "3  -0.910335  -0.817758 -0.174501     False        False         True   \n",
       "4   0.128897   0.141743 -0.174501     False         True        False   \n",
       "5   1.514540  -0.898356 -0.174501     False         True        False   \n",
       "6   0.475308  -0.467547 -0.174501     False        False         True   \n",
       "7   0.475308  -0.090623 -0.174501     False         True        False   \n",
       "8   0.821718  -0.429501 -0.174501     False         True        False   \n",
       "9   0.475308   0.139605 -0.174501     False         True        False   \n",
       "10  1.168129  -0.896708 -0.174501     False        False         True   \n",
       "11  0.475308   0.361978 -0.174501     False         True        False   \n",
       "12  0.475308  -0.565326 -0.174501     False        False         True   \n",
       "13  0.475308  -0.281983 -0.174501     False        False         True   \n",
       "14 -1.603156   1.042696 -0.174501     False        False         True   \n",
       "15  0.821718   0.155911 -0.174501     False         True        False   \n",
       "16  0.475308   0.121858 -0.174501     False         True        False   \n",
       "17  0.821718   0.155911 -0.174501     False         True        False   \n",
       "18  0.475308  -0.037278 -0.174501      True        False        False   \n",
       "19 -1.256746   0.115779 -0.174501     False        False         True   \n",
       "\n",
       "    seller_type_Dealer  seller_type_Individual  transmission_Automatic  \\\n",
       "0                 True                   False                   False   \n",
       "1                 True                   False                   False   \n",
       "2                 True                   False                   False   \n",
       "3                 True                   False                   False   \n",
       "4                 True                   False                   False   \n",
       "5                 True                   False                   False   \n",
       "6                 True                   False                   False   \n",
       "7                 True                   False                   False   \n",
       "8                 True                   False                   False   \n",
       "9                 True                   False                   False   \n",
       "10                True                   False                   False   \n",
       "11                True                   False                   False   \n",
       "12                True                   False                    True   \n",
       "13                True                   False                   False   \n",
       "14                True                   False                   False   \n",
       "15                True                   False                   False   \n",
       "16                True                   False                   False   \n",
       "17                True                   False                   False   \n",
       "18                True                   False                   False   \n",
       "19                True                   False                   False   \n",
       "\n",
       "    transmission_Manual  \n",
       "0                  True  \n",
       "1                  True  \n",
       "2                  True  \n",
       "3                  True  \n",
       "4                  True  \n",
       "5                  True  \n",
       "6                  True  \n",
       "7                  True  \n",
       "8                  True  \n",
       "9                  True  \n",
       "10                 True  \n",
       "11                 True  \n",
       "12                False  \n",
       "13                 True  \n",
       "14                 True  \n",
       "15                 True  \n",
       "16                 True  \n",
       "17                 True  \n",
       "18                 True  \n",
       "19                 True  "
      ]
     },
     "execution_count": 7,
     "metadata": {},
     "output_type": "execute_result"
    }
   ],
   "source": [
    "cat=[]\n",
    "con=[]\n",
    "for i in X.columns:\n",
    "    if X[i].dtypes=='object':\n",
    "        cat.append(i)\n",
    "    else:\n",
    "        con.append(i)\n",
    "X1=pd.get_dummies(X[cat])\n",
    "from sklearn.preprocessing import StandardScaler\n",
    "ss=StandardScaler()\n",
    "X2=pd.DataFrame(ss.fit_transform(X[con]),columns=con)\n",
    "Xnew=X2.join(X1)\n",
    "Xnew.head(20)"
   ]
  },
  {
   "cell_type": "markdown",
   "id": "de38b569",
   "metadata": {},
   "source": [
    "### Spliting data into training and testing"
   ]
  },
  {
   "cell_type": "code",
   "execution_count": 8,
   "id": "053d9e97",
   "metadata": {},
   "outputs": [],
   "source": [
    "from sklearn.model_selection import train_test_split\n",
    "xtrain,xtest,ytrain,ytest=train_test_split(Xnew,Y,test_size=0.2,random_state=23)"
   ]
  },
  {
   "cell_type": "markdown",
   "id": "f0f3963f",
   "metadata": {},
   "source": [
    "## Decision tree regressor for model"
   ]
  },
  {
   "cell_type": "code",
   "execution_count": 9,
   "id": "013fe137",
   "metadata": {},
   "outputs": [
    {
     "data": {
      "text/plain": [
       "0.03805555555555555"
      ]
     },
     "execution_count": 9,
     "metadata": {},
     "output_type": "execute_result"
    }
   ],
   "source": [
    "from sklearn.tree import DecisionTreeRegressor\n",
    "dtr=DecisionTreeRegressor(random_state=23)\n",
    "model=dtr.fit(xtrain,ytrain)\n",
    "pred_tr=model.predict(xtrain)\n",
    "pred_ts=model.predict(xtest)\n",
    "from sklearn.metrics import mean_absolute_error\n",
    "tr_err=mean_absolute_error(pred_tr,ytrain)\n",
    "ts_err=mean_absolute_error(pred_ts,ytest)\n",
    "tr_err"
   ]
  },
  {
   "cell_type": "code",
   "execution_count": 10,
   "id": "2533ac85",
   "metadata": {},
   "outputs": [
    {
     "data": {
      "text/plain": [
       "1.9852459016393444"
      ]
     },
     "execution_count": 10,
     "metadata": {},
     "output_type": "execute_result"
    }
   ],
   "source": [
    "ts_err"
   ]
  },
  {
   "cell_type": "markdown",
   "id": "b2114fc8",
   "metadata": {},
   "source": [
    "## PRUNING"
   ]
  },
  {
   "cell_type": "markdown",
   "id": "3755b827",
   "metadata": {},
   "source": [
    "### 1. Minimum samples Split"
   ]
  },
  {
   "cell_type": "code",
   "execution_count": 11,
   "id": "76a74d70",
   "metadata": {},
   "outputs": [
    {
     "data": {
      "text/plain": [
       "{'min_samples_split': 13}"
      ]
     },
     "execution_count": 11,
     "metadata": {},
     "output_type": "execute_result"
    }
   ],
   "source": [
    "from sklearn.model_selection import GridSearchCV\n",
    "tg={'min_samples_split':range(1,20,1)}\n",
    "cv=GridSearchCV(dtr,tg,scoring='neg_mean_absolute_error',cv=4)\n",
    "cvmodel=cv.fit(Xnew,Y)\n",
    "cvmodel.best_params_"
   ]
  },
  {
   "cell_type": "code",
   "execution_count": 12,
   "id": "3527d3a6",
   "metadata": {},
   "outputs": [
    {
     "name": "stdout",
     "output_type": "stream",
     "text": [
      "training error-->  0.3975972222222222 testing_error-->  1.7186885245901637\n"
     ]
    }
   ],
   "source": [
    "from sklearn.tree import DecisionTreeRegressor\n",
    "dtr=DecisionTreeRegressor(random_state=23,min_samples_split=3)\n",
    "model=dtr.fit(xtrain,ytrain)\n",
    "pred_tr=model.predict(xtrain)\n",
    "pred_ts=model.predict(xtest)\n",
    "from sklearn.metrics import mean_absolute_error\n",
    "tr_err=mean_absolute_error(pred_tr,ytrain)\n",
    "ts_err=mean_absolute_error(pred_ts,ytest)\n",
    "print('training error--> ',tr_err,'testing_error--> ',ts_err)"
   ]
  },
  {
   "cell_type": "markdown",
   "id": "1256168c",
   "metadata": {},
   "source": [
    "### 2. Minimum Samples Leaf"
   ]
  },
  {
   "cell_type": "code",
   "execution_count": 13,
   "id": "d731f0f1",
   "metadata": {},
   "outputs": [
    {
     "data": {
      "text/plain": [
       "{'min_samples_leaf': 4}"
      ]
     },
     "execution_count": 13,
     "metadata": {},
     "output_type": "execute_result"
    }
   ],
   "source": [
    "from sklearn.model_selection import GridSearchCV\n",
    "tg={'min_samples_leaf':range(1,20,1)}\n",
    "cv=GridSearchCV(dtr,tg,scoring='neg_mean_absolute_error',cv=4)\n",
    "cvmodel=cv.fit(Xnew,Y)\n",
    "cvmodel.best_params_"
   ]
  },
  {
   "cell_type": "code",
   "execution_count": 14,
   "id": "5deb63b2",
   "metadata": {},
   "outputs": [
    {
     "name": "stdout",
     "output_type": "stream",
     "text": [
      "training error-->  1.2402881613756616 testing_error-->  1.4344189435336978\n"
     ]
    }
   ],
   "source": [
    "from sklearn.tree import DecisionTreeRegressor\n",
    "dtr=DecisionTreeRegressor(random_state=23,min_samples_leaf=5)\n",
    "model=dtr.fit(xtrain,ytrain)\n",
    "pred_tr=model.predict(xtrain)\n",
    "pred_ts=model.predict(xtest)\n",
    "from sklearn.metrics import mean_absolute_error\n",
    "tr_err=mean_absolute_error(pred_tr,ytrain)\n",
    "ts_err=mean_absolute_error(pred_ts,ytest)\n",
    "print('training error--> ',tr_err,'testing_error--> ',ts_err)"
   ]
  },
  {
   "cell_type": "markdown",
   "id": "c89a05c0",
   "metadata": {},
   "source": [
    "### 3. Maximum Depth"
   ]
  },
  {
   "cell_type": "code",
   "execution_count": 15,
   "id": "358b0e72",
   "metadata": {},
   "outputs": [
    {
     "data": {
      "text/plain": [
       "{'max_depth': 4}"
      ]
     },
     "execution_count": 15,
     "metadata": {},
     "output_type": "execute_result"
    }
   ],
   "source": [
    "from sklearn.model_selection import GridSearchCV\n",
    "tg={'max_depth':range(1,20,1)}\n",
    "cv=GridSearchCV(dtr,tg,scoring='neg_mean_absolute_error',cv=4)\n",
    "cvmodel=cv.fit(Xnew,Y)\n",
    "cvmodel.best_params_"
   ]
  },
  {
   "cell_type": "code",
   "execution_count": 16,
   "id": "2d467607",
   "metadata": {},
   "outputs": [
    {
     "name": "stdout",
     "output_type": "stream",
     "text": [
      "training error-->  0.47021535894660893 testing_error-->  1.8857142857142857\n"
     ]
    }
   ],
   "source": [
    "from sklearn.tree import DecisionTreeRegressor\n",
    "dtr=DecisionTreeRegressor(random_state=23,max_depth=8)\n",
    "model=dtr.fit(xtrain,ytrain)\n",
    "pred_tr=model.predict(xtrain)\n",
    "pred_ts=model.predict(xtest)\n",
    "from sklearn.metrics import mean_absolute_error\n",
    "tr_err=mean_absolute_error(pred_tr,ytrain)\n",
    "ts_err=mean_absolute_error(pred_ts,ytest)\n",
    "print('training error--> ',tr_err,'testing_error--> ',ts_err)"
   ]
  },
  {
   "cell_type": "markdown",
   "id": "a2690468",
   "metadata": {},
   "source": [
    "##  Used Random Forest Regressor for model"
   ]
  },
  {
   "cell_type": "code",
   "execution_count": 17,
   "id": "a16b7664",
   "metadata": {},
   "outputs": [
    {
     "name": "stdout",
     "output_type": "stream",
     "text": [
      "training error-->  0.6453214211309523 testing_error-->  1.5198700234192046\n"
     ]
    }
   ],
   "source": [
    "from sklearn.ensemble import RandomForestRegressor\n",
    "rfr=RandomForestRegressor(random_state=23)\n",
    "model=rfr.fit(xtrain,ytrain)\n",
    "pred_tr=model.predict(xtrain)\n",
    "pred_ts=model.predict(xtest)\n",
    "from sklearn.metrics import mean_absolute_error\n",
    "tr_err=mean_absolute_error(pred_tr,ytrain)\n",
    "ts_err=mean_absolute_error(pred_ts,ytest)\n",
    "print('training error--> ',tr_err,'testing_error--> ',ts_err)"
   ]
  },
  {
   "cell_type": "markdown",
   "id": "e91f6e7d",
   "metadata": {},
   "source": [
    "## Pruning in Random Forest"
   ]
  },
  {
   "cell_type": "markdown",
   "id": "a57e23d3",
   "metadata": {},
   "source": [
    "### 1. Maximum Depth"
   ]
  },
  {
   "cell_type": "code",
   "execution_count": 18,
   "id": "8fac59ee",
   "metadata": {},
   "outputs": [
    {
     "data": {
      "text/plain": [
       "{'max_depth': 4}"
      ]
     },
     "execution_count": 18,
     "metadata": {},
     "output_type": "execute_result"
    }
   ],
   "source": [
    "from sklearn.model_selection import GridSearchCV\n",
    "tg={'max_depth':range(1,20,1)}\n",
    "cv=GridSearchCV(rfr,tg,scoring='neg_mean_absolute_error',cv=4)\n",
    "cvmodel=cv.fit(Xnew,Y)\n",
    "cvmodel.best_params_"
   ]
  },
  {
   "cell_type": "code",
   "execution_count": 19,
   "id": "0eb4a8d3",
   "metadata": {},
   "outputs": [
    {
     "name": "stdout",
     "output_type": "stream",
     "text": [
      "training error-->  0.6683802714885242 testing_error-->  1.491064745834845\n"
     ]
    }
   ],
   "source": [
    "from sklearn.ensemble import RandomForestRegressor\n",
    "rfr=RandomForestRegressor(random_state=23,max_depth=11)\n",
    "model=rfr.fit(xtrain,ytrain)\n",
    "pred_tr=model.predict(xtrain)\n",
    "pred_ts=model.predict(xtest)\n",
    "from sklearn.metrics import mean_absolute_error\n",
    "tr_err=mean_absolute_error(pred_tr,ytrain)\n",
    "ts_err=mean_absolute_error(pred_ts,ytest)\n",
    "print('training error--> ',tr_err,'testing_error--> ',ts_err)"
   ]
  },
  {
   "cell_type": "markdown",
   "id": "c97aa058",
   "metadata": {},
   "source": [
    "### 2. Minimum Samples Splits"
   ]
  },
  {
   "cell_type": "code",
   "execution_count": 20,
   "id": "e32685c2",
   "metadata": {},
   "outputs": [
    {
     "data": {
      "text/plain": [
       "{'min_samples_split': 12}"
      ]
     },
     "execution_count": 20,
     "metadata": {},
     "output_type": "execute_result"
    }
   ],
   "source": [
    "from sklearn.model_selection import GridSearchCV\n",
    "tg={'min_samples_split':range(1,20,1)}\n",
    "cv=GridSearchCV(rfr,tg,scoring='neg_mean_absolute_error',cv=4)\n",
    "cvmodel=cv.fit(Xnew,Y)\n",
    "cvmodel.best_params_"
   ]
  },
  {
   "cell_type": "code",
   "execution_count": 21,
   "id": "6abd7ae8",
   "metadata": {},
   "outputs": [
    {
     "name": "stdout",
     "output_type": "stream",
     "text": [
      "training error-->  0.6453214211309523 testing_error-->  1.5198700234192046\n"
     ]
    }
   ],
   "source": [
    "from sklearn.ensemble import RandomForestRegressor\n",
    "rfr=RandomForestRegressor(random_state=23,min_samples_split=2)\n",
    "model=rfr.fit(xtrain,ytrain)\n",
    "pred_tr=model.predict(xtrain)\n",
    "pred_ts=model.predict(xtest)\n",
    "from sklearn.metrics import mean_absolute_error\n",
    "tr_err=mean_absolute_error(pred_tr,ytrain)\n",
    "ts_err=mean_absolute_error(pred_ts,ytest)\n",
    "print('training error--> ',tr_err,'testing_error--> ',ts_err)"
   ]
  },
  {
   "cell_type": "markdown",
   "id": "806999fb",
   "metadata": {},
   "source": [
    "### 3. Minimum Samples Leaf"
   ]
  },
  {
   "cell_type": "code",
   "execution_count": 22,
   "id": "8ab4427d",
   "metadata": {},
   "outputs": [
    {
     "data": {
      "text/plain": [
       "{'min_samples_leaf': 2}"
      ]
     },
     "execution_count": 22,
     "metadata": {},
     "output_type": "execute_result"
    }
   ],
   "source": [
    "from sklearn.model_selection import GridSearchCV\n",
    "tg={'min_samples_leaf':range(1,20,1)}\n",
    "cv=GridSearchCV(rfr,tg,scoring='neg_mean_absolute_error',cv=4)\n",
    "cvmodel=cv.fit(Xnew,Y)\n",
    "cvmodel.best_params_"
   ]
  },
  {
   "cell_type": "code",
   "execution_count": 23,
   "id": "88762c54",
   "metadata": {},
   "outputs": [
    {
     "name": "stdout",
     "output_type": "stream",
     "text": [
      "training error-->  0.9888949170725108 testing_error-->  1.4669688655288242\n"
     ]
    }
   ],
   "source": [
    "from sklearn.ensemble import RandomForestRegressor\n",
    "rfr=RandomForestRegressor(random_state=23,min_samples_leaf=2)\n",
    "model=rfr.fit(xtrain,ytrain)\n",
    "pred_tr=model.predict(xtrain)\n",
    "pred_ts=model.predict(xtest)\n",
    "from sklearn.metrics import mean_absolute_error\n",
    "tr_err=mean_absolute_error(pred_tr,ytrain)\n",
    "ts_err=mean_absolute_error(pred_ts,ytest)\n",
    "print('training error--> ',tr_err,'testing_error--> ',ts_err)"
   ]
  },
  {
   "cell_type": "markdown",
   "id": "118c0298",
   "metadata": {},
   "source": [
    "# Used Adaboost Algo for Model traning"
   ]
  },
  {
   "cell_type": "code",
   "execution_count": 24,
   "id": "70584ceb",
   "metadata": {},
   "outputs": [
    {
     "name": "stdout",
     "output_type": "stream",
     "text": [
      "training error-->  0.22186309523809525 testing_error-->  1.8970443900361937\n"
     ]
    }
   ],
   "source": [
    "from sklearn.ensemble import AdaBoostRegressor\n",
    "abr=AdaBoostRegressor(DecisionTreeRegressor(random_state=23))\n",
    "model=abr.fit(xtrain,ytrain)\n",
    "pred_tr=model.predict(xtrain)\n",
    "pred_ts=model.predict(xtest)\n",
    "from sklearn.metrics import mean_absolute_error\n",
    "tr_err=mean_absolute_error(pred_tr,ytrain)\n",
    "ts_err=mean_absolute_error(pred_ts,ytest)\n",
    "print('training error--> ',tr_err,'testing_error--> ',ts_err)"
   ]
  },
  {
   "cell_type": "markdown",
   "id": "63e12e54",
   "metadata": {},
   "source": [
    "## Pruning in AdaBoost"
   ]
  },
  {
   "cell_type": "markdown",
   "id": "80463aae",
   "metadata": {},
   "source": [
    "### 1. Maximum Depth"
   ]
  },
  {
   "cell_type": "code",
   "execution_count": 25,
   "id": "35a65efd",
   "metadata": {},
   "outputs": [
    {
     "data": {
      "text/plain": [
       "{'n_estimators': 12}"
      ]
     },
     "execution_count": 25,
     "metadata": {},
     "output_type": "execute_result"
    }
   ],
   "source": [
    "from sklearn.model_selection import GridSearchCV\n",
    "tg={'n_estimators':range(1,50,1)}\n",
    "cv=GridSearchCV(abr,tg,scoring='neg_mean_absolute_error',cv=4)\n",
    "cvmodel=cv.fit(Xnew,Y)\n",
    "cvmodel.best_params_"
   ]
  },
  {
   "cell_type": "code",
   "execution_count": 26,
   "id": "76c22fab",
   "metadata": {},
   "outputs": [
    {
     "name": "stdout",
     "output_type": "stream",
     "text": [
      "training error-->  0.4186727159495222 testing_error-->  1.8729439881851941\n"
     ]
    }
   ],
   "source": [
    "from sklearn.ensemble import AdaBoostRegressor\n",
    "abr=AdaBoostRegressor(DecisionTreeRegressor(random_state=23,max_depth=8),n_estimators=9)\n",
    "model=abr.fit(xtrain,ytrain)\n",
    "pred_tr=model.predict(xtrain)\n",
    "pred_ts=model.predict(xtest)\n",
    "from sklearn.metrics import mean_absolute_error\n",
    "tr_err=mean_absolute_error(pred_tr,ytrain)\n",
    "ts_err=mean_absolute_error(pred_ts,ytest)\n",
    "print('training error--> ',tr_err,'testing_error--> ',ts_err) "
   ]
  },
  {
   "cell_type": "markdown",
   "id": "a9b490b9",
   "metadata": {},
   "source": [
    "# The best error i got ^"
   ]
  },
  {
   "cell_type": "code",
   "execution_count": 27,
   "id": "06b8aafa",
   "metadata": {},
   "outputs": [
    {
     "name": "stdout",
     "output_type": "stream",
     "text": [
      "training error-->  0.13899999999999998 testing_error-->  1.8668032786885247\n"
     ]
    }
   ],
   "source": [
    "from sklearn.ensemble import AdaBoostRegressor\n",
    "abr=AdaBoostRegressor(DecisionTreeRegressor(random_state=23,min_samples_split=2),n_estimators=9)\n",
    "model=abr.fit(xtrain,ytrain)\n",
    "pred_tr=model.predict(xtrain)\n",
    "pred_ts=model.predict(xtest)\n",
    "from sklearn.metrics import mean_absolute_error\n",
    "tr_err=mean_absolute_error(pred_tr,ytrain)\n",
    "ts_err=mean_absolute_error(pred_ts,ytest)\n",
    "print('training error--> ',tr_err,'testing_error--> ',ts_err)"
   ]
  },
  {
   "cell_type": "code",
   "execution_count": 28,
   "id": "cd655efd",
   "metadata": {},
   "outputs": [
    {
     "name": "stdout",
     "output_type": "stream",
     "text": [
      "training error-->  0.9909179946393764 testing_error-->  1.6620299186241811\n"
     ]
    }
   ],
   "source": [
    "from sklearn.ensemble import AdaBoostRegressor\n",
    "abr=AdaBoostRegressor(DecisionTreeRegressor(random_state=23,min_samples_leaf=5),n_estimators=9)\n",
    "model=abr.fit(xtrain,ytrain)\n",
    "pred_tr=model.predict(xtrain)\n",
    "pred_ts=model.predict(xtest)\n",
    "from sklearn.metrics import mean_absolute_error\n",
    "tr_err=mean_absolute_error(pred_tr,ytrain)\n",
    "ts_err=mean_absolute_error(pred_ts,ytest)\n",
    "print('training error--> ',tr_err,'testing_error--> ',ts_err)"
   ]
  },
  {
   "cell_type": "markdown",
   "id": "b286736e",
   "metadata": {},
   "source": [
    "## I got best model accuracy on Adaboost regressor where i used n_estmators=9 and max_depth=8"
   ]
  },
  {
   "cell_type": "code",
   "execution_count": null,
   "id": "2456b942",
   "metadata": {},
   "outputs": [],
   "source": []
  }
 ],
 "metadata": {
  "kernelspec": {
   "display_name": "Python 3",
   "language": "python",
   "name": "python3"
  },
  "language_info": {
   "codemirror_mode": {
    "name": "ipython",
    "version": 3
   },
   "file_extension": ".py",
   "mimetype": "text/x-python",
   "name": "python",
   "nbconvert_exporter": "python",
   "pygments_lexer": "ipython3",
   "version": "3.11.7"
  }
 },
 "nbformat": 4,
 "nbformat_minor": 5
}
